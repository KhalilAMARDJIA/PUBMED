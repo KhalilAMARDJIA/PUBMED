{
 "nbformat": 4,
 "nbformat_minor": 2,
 "metadata": {
  "language_info": {
   "name": "python",
   "codemirror_mode": {
    "name": "ipython",
    "version": 3
   },
   "version": "3.7.5-final"
  },
  "orig_nbformat": 2,
  "file_extension": ".py",
  "mimetype": "text/x-python",
  "name": "python",
  "npconvert_exporter": "python",
  "pygments_lexer": "ipython3",
  "version": 3,
  "kernelspec": {
   "name": "python37564bitb1575213fde648e2bbe52e2e7dca6f0c",
   "display_name": "Python 3.7.5 64-bit"
  }
 },
 "cells": [
  {
   "cell_type": "code",
   "execution_count": 2,
   "metadata": {},
   "outputs": [],
   "source": [
    "from pymed import PubMed\n",
    "import pandas as pd\n",
    "from wordcloud import WordCloud, STOPWORDS\n",
    "import matplotlib.pyplot as plt\n",
    "import csv\n",
    "import os\n",
    "import numbers\n",
    "\n",
    "os.chdir('I:\\\\PUBMED\\\\Python scripts')"
   ]
  },
  {
   "cell_type": "code",
   "execution_count": 3,
   "metadata": {},
   "outputs": [],
   "source": [
    "# Create a PubMed object that GraphQL can use to query\n",
    "# Note that the parameters are not required but kindly requested by PubMed Central\n",
    "# https://www.ncbi.nlm.nih.gov/pmc/tools/developers/\n",
    "pubmed = PubMed(tool=\"MyTool\", email=\"my@email.address\")\n",
    "\n",
    "# Create a GraphQL query in plain text\n",
    "query = input(\"PubMed query: \")\n",
    "\n",
    "# Execute the query against the API\n",
    "results = pubmed.query(query, max_results=5000)\n",
    "\n",
    "with open('PubMed_data.csv', 'w', newline='', encoding='utf8') as file:\n",
    "    writer = csv.writer(file, delimiter=';')\n",
    "    writer.writerow(['article_id', 'publication_date',\n",
    "                     'title', 'keywords', 'abstract'])\n",
    "# Loop over the retrieved articles\n",
    "    for article in results:\n",
    "\n",
    "        # Extract and format information from the article\n",
    "        article_id = article.pubmed_id\n",
    "\n",
    "        title = article.title\n",
    "        try:\n",
    "            if article.keywords:\n",
    "                if None in article.keywords:\n",
    "                    article.keywords.remove(None)\n",
    "                keywords = '\", \"'.join(article.keywords)\n",
    "        except AttributeError:\n",
    "            keywords = \"\"\n",
    "\n",
    "        publication_date = article.publication_date\n",
    "        abstract = article.abstract\n",
    "\n",
    "        writer.writerow([article_id, publication_date,\n",
    "                         title, keywords, abstract])"
   ]
  },
  {
   "cell_type": "code",
   "execution_count": 4,
   "metadata": {},
   "outputs": [],
   "source": [
    "data = pd.read_csv('PubMed_data.csv', sep= ';')\n",
    "data = data.dropna()\n",
    "data.to_csv('PubMed_data.csv', sep = \";\")"
   ]
  },
  {
   "cell_type": "code",
   "execution_count": 5,
   "metadata": {},
   "outputs": [],
   "source": [
    "data['AOFAS'] = data.abstract.str.count(' AOFAS ') + data.abstract.str.count('(AOFAS)') + data.abstract.str.count('American Orthopedic Foot and Ankle Score')\n",
    "data['AOS'] = data.abstract.str.count(' AOS ') + data.abstract.str.count('(AOS)') + data.abstract.str.count('Ankle Osteoarthritis Scale')\n",
    "data['FFI'] = data.abstract.str.count(' FFI ') + data.abstract.str.count('(FFI)') + data.abstract.str.count('Foot Function Index')\n",
    "data['VAS'] = data.abstract.str.count(' VAS ') + data.abstract.str.count('(VAS)') + data.abstract.str.count('Visual Analogue Scale')\n",
    "data['SF-36'] = data.abstract.str.count(' SF-36 ') + data.abstract.str.count('(SF-36)') + data.abstract.str.count('Short Form')\n",
    "data['SFMA'] = data.abstract.str.count(' SFMA ') + data.abstract.str.count('(SFMA)') + data.abstract.str.count('Selective Functional Movement Assessmnet')\n",
    "data['ROM'] = data.abstract.str.count(' ROM ') + data.abstract.str.count('(ROM)') + data.abstract.str.count('Range oF Motion')\n",
    "data['FAAM'] = data.abstract.str.count(' FAAM ') + data.abstract.str.count('(FAAM)') + data.abstract.str.count('Foot and Ankle Ability Measure')\n",
    "data['EuroQol'] = data.abstract.str.count(' EuroQol ') + data.abstract.str.count('(EuroQol)') + data.abstract.str.count('EQ5D5L')\n",
    "data['MOXFQ'] = data.abstract.str.count(' MOXFQ ') + data.abstract.str.count('(MOXFQ)') + data.abstract.str.count('Manchester Oxford Foot Questionnaire')\n",
    "data['EFAS'] = data.abstract.str.count(' EFAS ') + data.abstract.str.count('(EFAS)') + data.abstract.str.count('European Foot and Ankle Society')\n"
   ]
  },
  {
   "cell_type": "code",
   "execution_count": 6,
   "metadata": {},
   "outputs": [],
   "source": [
    "data.to_csv('PubMed_data.csv', sep = \";\")"
   ]
  },
  {
   "cell_type": "code",
   "execution_count": 7,
   "metadata": {},
   "outputs": [],
   "source": [
    "scores = ['AOFAS', 'AOS', 'FFI', 'VAS', 'SF-36', 'SFMA', 'ROM', 'FAAM', 'EuroQol', 'MOXFQ', 'EFAS']"
   ]
  },
  {
   "cell_type": "code",
   "execution_count": 8,
   "metadata": {},
   "outputs": [],
   "source": [
    "for score in scores:\n",
    "    data.loc[data[score] > 1, score] = 1"
   ]
  },
  {
   "cell_type": "code",
   "execution_count": 9,
   "metadata": {},
   "outputs": [
    {
     "data": {
      "text/html": "<div>\n<style scoped>\n    .dataframe tbody tr th:only-of-type {\n        vertical-align: middle;\n    }\n\n    .dataframe tbody tr th {\n        vertical-align: top;\n    }\n\n    .dataframe thead th {\n        text-align: right;\n    }\n</style>\n<table border=\"1\" class=\"dataframe\">\n  <thead>\n    <tr style=\"text-align: right;\">\n      <th></th>\n      <th>article_id</th>\n      <th>publication_date</th>\n      <th>title</th>\n      <th>keywords</th>\n      <th>abstract</th>\n      <th>AOFAS</th>\n      <th>AOS</th>\n      <th>FFI</th>\n      <th>VAS</th>\n      <th>SF-36</th>\n      <th>SFMA</th>\n      <th>ROM</th>\n      <th>FAAM</th>\n      <th>EuroQol</th>\n      <th>MOXFQ</th>\n      <th>EFAS</th>\n    </tr>\n  </thead>\n  <tbody>\n    <tr>\n      <td>0</td>\n      <td>32044672</td>\n      <td>2020-02-12</td>\n      <td>Change in gait biomechanics after total ankle ...</td>\n      <td>Ankle replacement\", \"Arthrodesis\", \"Arthroplas...</td>\n      <td>The aim of this systematic review with meta-an...</td>\n      <td>0</td>\n      <td>0</td>\n      <td>0</td>\n      <td>0</td>\n      <td>0</td>\n      <td>0</td>\n      <td>0</td>\n      <td>0</td>\n      <td>0</td>\n      <td>0</td>\n      <td>0</td>\n    </tr>\n    <tr>\n      <td>1</td>\n      <td>32042221\\n25265103\\n16205151\\n9755763\\n2558213...</td>\n      <td>2020-02-12</td>\n      <td>Technical and surgical causes of outliers afte...</td>\n      <td>Computer navigation\", \"Hip centre error\", \"Hip...</td>\n      <td>Navigated total knee arthroplasty (TKA) improv...</td>\n      <td>0</td>\n      <td>0</td>\n      <td>0</td>\n      <td>0</td>\n      <td>0</td>\n      <td>0</td>\n      <td>0</td>\n      <td>0</td>\n      <td>0</td>\n      <td>0</td>\n      <td>0</td>\n    </tr>\n    <tr>\n      <td>2</td>\n      <td>32036677</td>\n      <td>2020-02-11</td>\n      <td>Utility of Dehydrated Human Amniotic Membrane ...</td>\n      <td>amniotic membrane\", \"deep wound infections\", \"...</td>\n      <td>Wound complications after total ankle arthropl...</td>\n      <td>0</td>\n      <td>0</td>\n      <td>0</td>\n      <td>0</td>\n      <td>0</td>\n      <td>0</td>\n      <td>0</td>\n      <td>0</td>\n      <td>0</td>\n      <td>0</td>\n      <td>0</td>\n    </tr>\n    <tr>\n      <td>3</td>\n      <td>32030503</td>\n      <td>2020-02-08</td>\n      <td>Low femoral component prominence negatively in...</td>\n      <td>Component placement\", \"Outcome\", \"Prominence\",...</td>\n      <td>The revision rate of unicompartmental knee art...</td>\n      <td>0</td>\n      <td>0</td>\n      <td>0</td>\n      <td>0</td>\n      <td>0</td>\n      <td>0</td>\n      <td>1</td>\n      <td>0</td>\n      <td>0</td>\n      <td>0</td>\n      <td>0</td>\n    </tr>\n    <tr>\n      <td>4</td>\n      <td>32025426\\n29633074\\n30308348\\n18590896\\n294745...</td>\n      <td>2020-02-07</td>\n      <td>Arthrodesis of the Foot or Ankle in Adult Pati...</td>\n      <td>arthrodesis\", \"congenital clubfoot\", \"osteotom...</td>\n      <td>Background Although clubfoot that was correcte...</td>\n      <td>0</td>\n      <td>0</td>\n      <td>0</td>\n      <td>0</td>\n      <td>0</td>\n      <td>0</td>\n      <td>0</td>\n      <td>0</td>\n      <td>0</td>\n      <td>0</td>\n      <td>0</td>\n    </tr>\n    <tr>\n      <td>...</td>\n      <td>...</td>\n      <td>...</td>\n      <td>...</td>\n      <td>...</td>\n      <td>...</td>\n      <td>...</td>\n      <td>...</td>\n      <td>...</td>\n      <td>...</td>\n      <td>...</td>\n      <td>...</td>\n      <td>...</td>\n      <td>...</td>\n      <td>...</td>\n      <td>...</td>\n      <td>...</td>\n    </tr>\n    <tr>\n      <td>2186</td>\n      <td>833410</td>\n      <td>1977-02-01</td>\n      <td>Symposium on arthritis in older persons. Secti...</td>\n      <td>Key words Ankle arthroplasty\", \"Rheumatoid art...</td>\n      <td>In experience with total joint replacement in ...</td>\n      <td>0</td>\n      <td>0</td>\n      <td>0</td>\n      <td>0</td>\n      <td>0</td>\n      <td>0</td>\n      <td>0</td>\n      <td>0</td>\n      <td>0</td>\n      <td>0</td>\n      <td>0</td>\n    </tr>\n    <tr>\n      <td>2187</td>\n      <td>912980</td>\n      <td>1977-01-01</td>\n      <td>Preliminary report of total ankle arthroplasty...</td>\n      <td>Key words Ankle arthroplasty\", \"Rheumatoid art...</td>\n      <td>Osteonecrosis of the talus secondary to adrena...</td>\n      <td>0</td>\n      <td>0</td>\n      <td>0</td>\n      <td>0</td>\n      <td>0</td>\n      <td>0</td>\n      <td>0</td>\n      <td>0</td>\n      <td>0</td>\n      <td>0</td>\n      <td>0</td>\n    </tr>\n    <tr>\n      <td>2188</td>\n      <td>837596</td>\n      <td>1977-01-01</td>\n      <td>Management of arthritis of the ankle. An alter...</td>\n      <td>Key words Ankle arthroplasty\", \"Rheumatoid art...</td>\n      <td>Twenty-eight patients treated by total ankle a...</td>\n      <td>0</td>\n      <td>0</td>\n      <td>0</td>\n      <td>0</td>\n      <td>0</td>\n      <td>0</td>\n      <td>0</td>\n      <td>0</td>\n      <td>0</td>\n      <td>0</td>\n      <td>0</td>\n    </tr>\n    <tr>\n      <td>2189</td>\n      <td>954296</td>\n      <td>1976-07-01</td>\n      <td>Cylindrical total ankle joint replacement: sur...</td>\n      <td>Key words Ankle arthroplasty\", \"Rheumatoid art...</td>\n      <td>Incongruent designs of total ankle arthroplast...</td>\n      <td>0</td>\n      <td>0</td>\n      <td>0</td>\n      <td>0</td>\n      <td>0</td>\n      <td>0</td>\n      <td>0</td>\n      <td>0</td>\n      <td>0</td>\n      <td>0</td>\n      <td>0</td>\n    </tr>\n    <tr>\n      <td>2191</td>\n      <td>1261110</td>\n      <td>1976-01-01</td>\n      <td>Irvine ankle arthroplasty. Prosthetic design a...</td>\n      <td>Key words Ankle arthroplasty\", \"Rheumatoid art...</td>\n      <td>A total ankle arthroplasty (IAA) design is pre...</td>\n      <td>0</td>\n      <td>0</td>\n      <td>0</td>\n      <td>0</td>\n      <td>0</td>\n      <td>0</td>\n      <td>0</td>\n      <td>0</td>\n      <td>0</td>\n      <td>0</td>\n      <td>0</td>\n    </tr>\n  </tbody>\n</table>\n<p>1996 rows × 16 columns</p>\n</div>",
      "text/plain": "                                             article_id publication_date  \\\n0                                              32044672       2020-02-12   \n1     32042221\\n25265103\\n16205151\\n9755763\\n2558213...       2020-02-12   \n2                                              32036677       2020-02-11   \n3                                              32030503       2020-02-08   \n4     32025426\\n29633074\\n30308348\\n18590896\\n294745...       2020-02-07   \n...                                                 ...              ...   \n2186                                             833410       1977-02-01   \n2187                                             912980       1977-01-01   \n2188                                             837596       1977-01-01   \n2189                                             954296       1976-07-01   \n2191                                            1261110       1976-01-01   \n\n                                                  title  \\\n0     Change in gait biomechanics after total ankle ...   \n1     Technical and surgical causes of outliers afte...   \n2     Utility of Dehydrated Human Amniotic Membrane ...   \n3     Low femoral component prominence negatively in...   \n4     Arthrodesis of the Foot or Ankle in Adult Pati...   \n...                                                 ...   \n2186  Symposium on arthritis in older persons. Secti...   \n2187  Preliminary report of total ankle arthroplasty...   \n2188  Management of arthritis of the ankle. An alter...   \n2189  Cylindrical total ankle joint replacement: sur...   \n2191  Irvine ankle arthroplasty. Prosthetic design a...   \n\n                                               keywords  \\\n0     Ankle replacement\", \"Arthrodesis\", \"Arthroplas...   \n1     Computer navigation\", \"Hip centre error\", \"Hip...   \n2     amniotic membrane\", \"deep wound infections\", \"...   \n3     Component placement\", \"Outcome\", \"Prominence\",...   \n4     arthrodesis\", \"congenital clubfoot\", \"osteotom...   \n...                                                 ...   \n2186  Key words Ankle arthroplasty\", \"Rheumatoid art...   \n2187  Key words Ankle arthroplasty\", \"Rheumatoid art...   \n2188  Key words Ankle arthroplasty\", \"Rheumatoid art...   \n2189  Key words Ankle arthroplasty\", \"Rheumatoid art...   \n2191  Key words Ankle arthroplasty\", \"Rheumatoid art...   \n\n                                               abstract  AOFAS  AOS  FFI  VAS  \\\n0     The aim of this systematic review with meta-an...      0    0    0    0   \n1     Navigated total knee arthroplasty (TKA) improv...      0    0    0    0   \n2     Wound complications after total ankle arthropl...      0    0    0    0   \n3     The revision rate of unicompartmental knee art...      0    0    0    0   \n4     Background Although clubfoot that was correcte...      0    0    0    0   \n...                                                 ...    ...  ...  ...  ...   \n2186  In experience with total joint replacement in ...      0    0    0    0   \n2187  Osteonecrosis of the talus secondary to adrena...      0    0    0    0   \n2188  Twenty-eight patients treated by total ankle a...      0    0    0    0   \n2189  Incongruent designs of total ankle arthroplast...      0    0    0    0   \n2191  A total ankle arthroplasty (IAA) design is pre...      0    0    0    0   \n\n      SF-36  SFMA  ROM  FAAM  EuroQol  MOXFQ  EFAS  \n0         0     0    0     0        0      0     0  \n1         0     0    0     0        0      0     0  \n2         0     0    0     0        0      0     0  \n3         0     0    1     0        0      0     0  \n4         0     0    0     0        0      0     0  \n...     ...   ...  ...   ...      ...    ...   ...  \n2186      0     0    0     0        0      0     0  \n2187      0     0    0     0        0      0     0  \n2188      0     0    0     0        0      0     0  \n2189      0     0    0     0        0      0     0  \n2191      0     0    0     0        0      0     0  \n\n[1996 rows x 16 columns]"
     },
     "execution_count": 9,
     "metadata": {},
     "output_type": "execute_result"
    }
   ],
   "source": [
    "data"
   ]
  },
  {
   "cell_type": "code",
   "execution_count": null,
   "metadata": {},
   "outputs": [],
   "source": []
  }
 ]
}